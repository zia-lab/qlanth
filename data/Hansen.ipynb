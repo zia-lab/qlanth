{
 "cells": [
  {
   "cell_type": "markdown",
   "metadata": {},
   "source": [
    "# Hansen"
   ]
  },
  {
   "cell_type": "code",
   "execution_count": null,
   "metadata": {},
   "outputs": [],
   "source": [
    "# deprecated, use hansen_parse.py instead"
   ]
  },
  {
   "cell_type": "code",
   "execution_count": 2,
   "metadata": {},
   "outputs": [
    {
     "name": "stdout",
     "output_type": "stream",
     "text": [
      "┌────────────────────────────────────────────────────────────────────────┐\n",
      "│~~~~~~~~~~~~~~~~~~~~~~~~~~~~~~~~~~~~~~~~~~~~~~~~~~~~~~~~~~~~~~~~~~~~~~~~│\n",
      "│~~~~~~~~~~~~~~~~~~~~~~~~~~~~~~~~~~~~~~~~~~~~~~~~~~~~~~~~~~~~~~~~~~~~~~~~│\n",
      "│~~~~┌──────────────────────────────────────────────────────────────┐~~~~│\n",
      "│~~~~│  This Python script parses and cleans the raw data from the  │~~~~│\n",
      "│~~~~│                          tables of                           │~~~~│\n",
      "│~~~~│ Hansen, JE, BR Judd, and Hannah Crosswhite. “Matrix Elements │~~~~│\n",
      "│~~~~│ of Scalar Three-Electron Operators for the Atomic f-Shell.”  │~~~~│\n",
      "│~~~~│ Atomic Data and Nuclear Data Tables 62, no. 1 (1996): 1–49.  │~~~~│\n",
      "│~~~~│ It creates an excel spreadsheet where each sheet corresponds │~~~~│\n",
      "│~~~~│  to an f^N configuration, and it also produces a single csv  │~~~~│\n",
      "│~~~~│    file with a column that allows discriminating for the     │~~~~│\n",
      "│~~~~│                  different configurations.                   │~~~~│\n",
      "│~~~~│        The abstract from that paper is the following:        │~~~~│\n",
      "│~~~~│                                                              │~~~~│\n",
      "│~~~~└──────────────────────────────────────────────────────────────┘~~~~│\n",
      "│~~~~~~~~~~~~~~~~~~~~~~~~~~~~~~~~~~~~~~~~~~~~~~~~~~~~~~~~~~~~~~~~~~~~~~~~│\n",
      "│~~~~~~~~                                                        ~~~~~~~~│\n",
      "│~~~~~~~~   \"Tables are provided for the matrix elements of an   ~~~~~~~~│\n",
      "│~~~~~~~~  orthogonal set of Hermitian three-electron operators  ~~~~~~~~│\n",
      "│~~~~~~~~  ti for the states of the f shell. The ti are scalar   ~~~~~~~~│\n",
      "│~~~~~~~~   with respect to the total spin S and total orbital   ~~~~~~~~│\n",
      "│~~~~~~~~  angular momentum L, and they are among the effective  ~~~~~~~~│\n",
      "│~~~~~~~~    operators needed to be included in an f-electron    ~~~~~~~~│\n",
      "│~~~~~~~~ Hamiltonian in order to represent the coupling of the  ~~~~~~~~│\n",
      "│~~~~~~~~ ground configuration f N to excited configurations via ~~~~~~~~│\n",
      "│~~~~~~~~       the inter-electronic Coulomb interaction.\"       ~~~~~~~~│\n",
      "│~~~~~~~~                                                        ~~~~~~~~│\n",
      "│~~~~~~~~~~~~~~~~~~~~~~~~~~~~~~~~~~~~~~~~~~~~~~~~~~~~~~~~~~~~~~~~~~~~~~~~│\n",
      "│~~~~┌──────────────────────────────────────────────────────────────┐~~~~│\n",
      "│~~~~│                          IMPORTANT:                          │~~~~│\n",
      "│~~~~│                                                              │~~~~│\n",
      "│~~~~│  + The values used here for t_2 are instead those of t'_2.   │~~~~│\n",
      "│~~~~│   + The .xls file was produced with help of OCR, but their   │~~~~│\n",
      "│~~~~│  values were later tested against another version of these   │~~~~│\n",
      "│~~~~│           tables and no discrepancies were found.            │~~~~│\n",
      "│~~~~└──────────────────────────────────────────────────────────────┘~~~~│\n",
      "│~~~~~~~~~~~~~~~~~~~~~~~~~~~~~~~~~~~~~~~~~~~~~~~~~~~~~~~~~~~~~~~~~~~~~~~~│\n",
      "│~~~~~~~~~~~~~~~~~~~~~~~~~~~~~~~~~~~~~~~~~~~~~~~~~~~~~~~~~~~~~~~~~~~~~~~~│\n",
      "└────────────────────────────────────────────────────────────────────────┘\n",
      "Saving to /Users/juan/ZiaLab/Codebase/qlanth/data/ti-hansen1996.xls ...\n"
     ]
    },
    {
     "name": "stderr",
     "output_type": "stream",
     "text": [
      "/Users/juan/opt/anaconda3/envs/qdef/lib/python3.7/site-packages/ipykernel_launcher.py:203: FutureWarning: As the xlwt package is no longer maintained, the xlwt engine will be removed in a future version of pandas. This is the only engine in pandas that supports writing in the xls format. Install openpyxl and write to an xlsx file instead. You can set the option io.excel.xls.writer to 'xlwt' to silence this warning. While this option is deprecated and will also raise a warning, it can be globally set and the warning suppressed.\n"
     ]
    },
    {
     "name": "stdout",
     "output_type": "stream",
     "text": [
      "Saving to /Users/juan/ZiaLab/Codebase/qlanth/data/ti-hansen1996.csv ...\n"
     ]
    },
    {
     "name": "stderr",
     "output_type": "stream",
     "text": [
      "/Users/juan/opt/anaconda3/envs/qdef/lib/python3.7/site-packages/ipykernel_launcher.py:178: RuntimeWarning: More than 20 figures have been opened. Figures created through the pyplot interface (`matplotlib.pyplot.figure`) are retained until explicitly closed and may consume too much memory. (To control this warning, see the rcParam `figure.max_open_warning`).\n",
      "/Users/juan/opt/anaconda3/envs/qdef/lib/python3.7/site-packages/ipykernel_launcher.py:175: RuntimeWarning: More than 20 figures have been opened. Figures created through the pyplot interface (`matplotlib.pyplot.figure`) are retained until explicitly closed and may consume too much memory. (To control this warning, see the rcParam `figure.max_open_warning`).\n"
     ]
    },
    {
     "data": {
      "text/plain": [
       "<Figure size 432x288 with 0 Axes>"
      ]
     },
     "metadata": {},
     "output_type": "display_data"
    },
    {
     "data": {
      "text/plain": [
       "<Figure size 432x288 with 0 Axes>"
      ]
     },
     "metadata": {},
     "output_type": "display_data"
    },
    {
     "data": {
      "text/plain": [
       "<Figure size 432x288 with 0 Axes>"
      ]
     },
     "metadata": {},
     "output_type": "display_data"
    },
    {
     "data": {
      "text/plain": [
       "<Figure size 432x288 with 0 Axes>"
      ]
     },
     "metadata": {},
     "output_type": "display_data"
    },
    {
     "data": {
      "text/plain": [
       "<Figure size 432x288 with 0 Axes>"
      ]
     },
     "metadata": {},
     "output_type": "display_data"
    },
    {
     "data": {
      "text/plain": [
       "<Figure size 432x288 with 0 Axes>"
      ]
     },
     "metadata": {},
     "output_type": "display_data"
    },
    {
     "data": {
      "text/plain": [
       "<Figure size 432x288 with 0 Axes>"
      ]
     },
     "metadata": {},
     "output_type": "display_data"
    },
    {
     "data": {
      "text/plain": [
       "<Figure size 432x288 with 0 Axes>"
      ]
     },
     "metadata": {},
     "output_type": "display_data"
    },
    {
     "data": {
      "text/plain": [
       "<Figure size 432x288 with 0 Axes>"
      ]
     },
     "metadata": {},
     "output_type": "display_data"
    },
    {
     "data": {
      "text/plain": [
       "<Figure size 432x288 with 0 Axes>"
      ]
     },
     "metadata": {},
     "output_type": "display_data"
    },
    {
     "data": {
      "text/plain": [
       "<Figure size 432x288 with 0 Axes>"
      ]
     },
     "metadata": {},
     "output_type": "display_data"
    },
    {
     "data": {
      "text/plain": [
       "<Figure size 432x288 with 0 Axes>"
      ]
     },
     "metadata": {},
     "output_type": "display_data"
    },
    {
     "data": {
      "text/plain": [
       "<Figure size 432x288 with 0 Axes>"
      ]
     },
     "metadata": {},
     "output_type": "display_data"
    },
    {
     "data": {
      "text/plain": [
       "<Figure size 432x288 with 0 Axes>"
      ]
     },
     "metadata": {},
     "output_type": "display_data"
    },
    {
     "data": {
      "text/plain": [
       "<Figure size 432x288 with 0 Axes>"
      ]
     },
     "metadata": {},
     "output_type": "display_data"
    },
    {
     "data": {
      "text/plain": [
       "<Figure size 432x288 with 0 Axes>"
      ]
     },
     "metadata": {},
     "output_type": "display_data"
    },
    {
     "data": {
      "text/plain": [
       "<Figure size 432x288 with 0 Axes>"
      ]
     },
     "metadata": {},
     "output_type": "display_data"
    },
    {
     "data": {
      "text/plain": [
       "<Figure size 432x288 with 0 Axes>"
      ]
     },
     "metadata": {},
     "output_type": "display_data"
    },
    {
     "data": {
      "text/plain": [
       "<Figure size 432x288 with 0 Axes>"
      ]
     },
     "metadata": {},
     "output_type": "display_data"
    },
    {
     "data": {
      "text/plain": [
       "<Figure size 432x288 with 0 Axes>"
      ]
     },
     "metadata": {},
     "output_type": "display_data"
    },
    {
     "data": {
      "text/plain": [
       "<Figure size 432x288 with 0 Axes>"
      ]
     },
     "metadata": {},
     "output_type": "display_data"
    },
    {
     "data": {
      "text/plain": [
       "<Figure size 432x288 with 0 Axes>"
      ]
     },
     "metadata": {},
     "output_type": "display_data"
    },
    {
     "data": {
      "text/plain": [
       "<Figure size 432x288 with 0 Axes>"
      ]
     },
     "metadata": {},
     "output_type": "display_data"
    },
    {
     "data": {
      "text/plain": [
       "<Figure size 432x288 with 0 Axes>"
      ]
     },
     "metadata": {},
     "output_type": "display_data"
    },
    {
     "data": {
      "text/plain": [
       "<Figure size 432x288 with 0 Axes>"
      ]
     },
     "metadata": {},
     "output_type": "display_data"
    },
    {
     "data": {
      "text/plain": [
       "<Figure size 432x288 with 0 Axes>"
      ]
     },
     "metadata": {},
     "output_type": "display_data"
    },
    {
     "data": {
      "text/plain": [
       "<Figure size 432x288 with 0 Axes>"
      ]
     },
     "metadata": {},
     "output_type": "display_data"
    },
    {
     "data": {
      "text/plain": [
       "<Figure size 432x288 with 0 Axes>"
      ]
     },
     "metadata": {},
     "output_type": "display_data"
    },
    {
     "data": {
      "text/plain": [
       "<Figure size 432x288 with 0 Axes>"
      ]
     },
     "metadata": {},
     "output_type": "display_data"
    },
    {
     "data": {
      "text/plain": [
       "<Figure size 432x288 with 0 Axes>"
      ]
     },
     "metadata": {},
     "output_type": "display_data"
    },
    {
     "data": {
      "text/plain": [
       "<Figure size 432x288 with 0 Axes>"
      ]
     },
     "metadata": {},
     "output_type": "display_data"
    },
    {
     "data": {
      "text/plain": [
       "<Figure size 432x288 with 0 Axes>"
      ]
     },
     "metadata": {},
     "output_type": "display_data"
    },
    {
     "data": {
      "text/plain": [
       "<Figure size 432x288 with 0 Axes>"
      ]
     },
     "metadata": {},
     "output_type": "display_data"
    },
    {
     "data": {
      "text/plain": [
       "<Figure size 432x288 with 0 Axes>"
      ]
     },
     "metadata": {},
     "output_type": "display_data"
    },
    {
     "data": {
      "text/plain": [
       "<Figure size 432x288 with 0 Axes>"
      ]
     },
     "metadata": {},
     "output_type": "display_data"
    },
    {
     "data": {
      "text/plain": [
       "<Figure size 432x288 with 0 Axes>"
      ]
     },
     "metadata": {},
     "output_type": "display_data"
    },
    {
     "data": {
      "text/plain": [
       "<Figure size 432x288 with 0 Axes>"
      ]
     },
     "metadata": {},
     "output_type": "display_data"
    },
    {
     "data": {
      "text/plain": [
       "<Figure size 432x288 with 0 Axes>"
      ]
     },
     "metadata": {},
     "output_type": "display_data"
    },
    {
     "data": {
      "text/plain": [
       "<Figure size 432x288 with 0 Axes>"
      ]
     },
     "metadata": {},
     "output_type": "display_data"
    },
    {
     "data": {
      "text/plain": [
       "<Figure size 432x288 with 0 Axes>"
      ]
     },
     "metadata": {},
     "output_type": "display_data"
    },
    {
     "data": {
      "text/plain": [
       "<Figure size 432x288 with 0 Axes>"
      ]
     },
     "metadata": {},
     "output_type": "display_data"
    },
    {
     "data": {
      "text/plain": [
       "<Figure size 432x288 with 0 Axes>"
      ]
     },
     "metadata": {},
     "output_type": "display_data"
    },
    {
     "data": {
      "text/plain": [
       "<Figure size 432x288 with 0 Axes>"
      ]
     },
     "metadata": {},
     "output_type": "display_data"
    },
    {
     "data": {
      "text/plain": [
       "<Figure size 432x288 with 0 Axes>"
      ]
     },
     "metadata": {},
     "output_type": "display_data"
    },
    {
     "data": {
      "text/plain": [
       "<Figure size 432x288 with 0 Axes>"
      ]
     },
     "metadata": {},
     "output_type": "display_data"
    },
    {
     "data": {
      "text/plain": [
       "<Figure size 432x288 with 0 Axes>"
      ]
     },
     "metadata": {},
     "output_type": "display_data"
    },
    {
     "data": {
      "text/plain": [
       "<Figure size 432x288 with 0 Axes>"
      ]
     },
     "metadata": {},
     "output_type": "display_data"
    },
    {
     "data": {
      "text/plain": [
       "<Figure size 432x288 with 0 Axes>"
      ]
     },
     "metadata": {},
     "output_type": "display_data"
    },
    {
     "data": {
      "text/plain": [
       "<Figure size 432x288 with 0 Axes>"
      ]
     },
     "metadata": {},
     "output_type": "display_data"
    },
    {
     "data": {
      "text/plain": [
       "<Figure size 432x288 with 0 Axes>"
      ]
     },
     "metadata": {},
     "output_type": "display_data"
    },
    {
     "data": {
      "text/plain": [
       "<Figure size 432x288 with 0 Axes>"
      ]
     },
     "metadata": {},
     "output_type": "display_data"
    },
    {
     "data": {
      "text/plain": [
       "<Figure size 432x288 with 0 Axes>"
      ]
     },
     "metadata": {},
     "output_type": "display_data"
    },
    {
     "data": {
      "text/plain": [
       "<Figure size 432x288 with 0 Axes>"
      ]
     },
     "metadata": {},
     "output_type": "display_data"
    },
    {
     "data": {
      "text/plain": [
       "<Figure size 432x288 with 0 Axes>"
      ]
     },
     "metadata": {},
     "output_type": "display_data"
    },
    {
     "data": {
      "text/plain": [
       "<Figure size 432x288 with 0 Axes>"
      ]
     },
     "metadata": {},
     "output_type": "display_data"
    },
    {
     "data": {
      "text/plain": [
       "<Figure size 432x288 with 0 Axes>"
      ]
     },
     "metadata": {},
     "output_type": "display_data"
    },
    {
     "data": {
      "text/plain": [
       "<Figure size 432x288 with 0 Axes>"
      ]
     },
     "metadata": {},
     "output_type": "display_data"
    },
    {
     "data": {
      "text/plain": [
       "<Figure size 432x288 with 0 Axes>"
      ]
     },
     "metadata": {},
     "output_type": "display_data"
    },
    {
     "data": {
      "text/plain": [
       "<Figure size 432x288 with 0 Axes>"
      ]
     },
     "metadata": {},
     "output_type": "display_data"
    },
    {
     "data": {
      "text/plain": [
       "<Figure size 432x288 with 0 Axes>"
      ]
     },
     "metadata": {},
     "output_type": "display_data"
    },
    {
     "data": {
      "text/plain": [
       "<Figure size 432x288 with 0 Axes>"
      ]
     },
     "metadata": {},
     "output_type": "display_data"
    },
    {
     "data": {
      "text/plain": [
       "<Figure size 432x288 with 0 Axes>"
      ]
     },
     "metadata": {},
     "output_type": "display_data"
    },
    {
     "data": {
      "text/plain": [
       "<Figure size 432x288 with 0 Axes>"
      ]
     },
     "metadata": {},
     "output_type": "display_data"
    },
    {
     "data": {
      "text/plain": [
       "<Figure size 432x288 with 0 Axes>"
      ]
     },
     "metadata": {},
     "output_type": "display_data"
    },
    {
     "data": {
      "text/plain": [
       "<Figure size 432x288 with 0 Axes>"
      ]
     },
     "metadata": {},
     "output_type": "display_data"
    },
    {
     "data": {
      "text/plain": [
       "<Figure size 432x288 with 0 Axes>"
      ]
     },
     "metadata": {},
     "output_type": "display_data"
    },
    {
     "data": {
      "text/plain": [
       "<Figure size 432x288 with 0 Axes>"
      ]
     },
     "metadata": {},
     "output_type": "display_data"
    },
    {
     "data": {
      "text/plain": [
       "<Figure size 432x288 with 0 Axes>"
      ]
     },
     "metadata": {},
     "output_type": "display_data"
    },
    {
     "data": {
      "text/plain": [
       "<Figure size 432x288 with 0 Axes>"
      ]
     },
     "metadata": {},
     "output_type": "display_data"
    },
    {
     "data": {
      "text/plain": [
       "<Figure size 432x288 with 0 Axes>"
      ]
     },
     "metadata": {},
     "output_type": "display_data"
    }
   ],
   "source": [
    "# #/usr/bin/env python3\n",
    "# import pandas as pd\n",
    "# from collections import Counter\n",
    "# from pandas import ExcelWriter\n",
    "# import os\n",
    "# import numpy as np\n",
    "\n",
    "# info = '''┌────────────────────────────────────────────────────────────────────────┐\n",
    "# │~~~~~~~~~~~~~~~~~~~~~~~~~~~~~~~~~~~~~~~~~~~~~~~~~~~~~~~~~~~~~~~~~~~~~~~~│\n",
    "# │~~~~~~~~~~~~~~~~~~~~~~~~~~~~~~~~~~~~~~~~~~~~~~~~~~~~~~~~~~~~~~~~~~~~~~~~│\n",
    "# │~~~~┌──────────────────────────────────────────────────────────────┐~~~~│\n",
    "# │~~~~│  This Python script parses and cleans the raw data from the  │~~~~│\n",
    "# │~~~~│                          tables of                           │~~~~│\n",
    "# │~~~~│ Hansen, JE, BR Judd, and Hannah Crosswhite. “Matrix Elements │~~~~│\n",
    "# │~~~~│ of Scalar Three-Electron Operators for the Atomic f-Shell.”  │~~~~│\n",
    "# │~~~~│ Atomic Data and Nuclear Data Tables 62, no. 1 (1996): 1–49.  │~~~~│\n",
    "# │~~~~│ It creates an Excel spreadsheet where each sheet corresponds │~~~~│\n",
    "# │~~~~│  to an f^N configuration, and it also produces a single csv  │~~~~│\n",
    "# │~~~~│    file with a column that allows discriminating for the     │~~~~│\n",
    "# │~~~~│                  different configurations.                   │~~~~│\n",
    "# │~~~~│        The abstract from that paper is the following:        │~~~~│\n",
    "# │~~~~│                                                              │~~~~│\n",
    "# │~~~~└──────────────────────────────────────────────────────────────┘~~~~│\n",
    "# │~~~~~~~~~~~~~~~~~~~~~~~~~~~~~~~~~~~~~~~~~~~~~~~~~~~~~~~~~~~~~~~~~~~~~~~~│\n",
    "# │~~~~~~~~                                                        ~~~~~~~~│\n",
    "# │~~~~~~~~   \"Tables are provided for the matrix elements of an   ~~~~~~~~│\n",
    "# │~~~~~~~~  orthogonal set of Hermitian three-electron operators  ~~~~~~~~│\n",
    "# │~~~~~~~~  ti for the states of the f shell. The ti are scalar   ~~~~~~~~│\n",
    "# │~~~~~~~~   with respect to the total spin S and total orbital   ~~~~~~~~│\n",
    "# │~~~~~~~~  angular momentum L, and they are among the effective  ~~~~~~~~│\n",
    "# │~~~~~~~~    operators needed to be included in an f-electron    ~~~~~~~~│\n",
    "# │~~~~~~~~ Hamiltonian in order to represent the coupling of the  ~~~~~~~~│\n",
    "# │~~~~~~~~ ground configuration f N to excited configurations via ~~~~~~~~│\n",
    "# │~~~~~~~~       the inter-electronic Coulomb interaction.\"       ~~~~~~~~│\n",
    "# │~~~~~~~~                                                        ~~~~~~~~│\n",
    "# │~~~~~~~~~~~~~~~~~~~~~~~~~~~~~~~~~~~~~~~~~~~~~~~~~~~~~~~~~~~~~~~~~~~~~~~~│\n",
    "# │~~~~┌──────────────────────────────────────────────────────────────┐~~~~│\n",
    "# │~~~~│                          IMPORTANT:                          │~~~~│\n",
    "# │~~~~│                                                              │~~~~│\n",
    "# │~~~~│  + The values used here for t_2 are instead those of t'_2.   │~~~~│\n",
    "# │~~~~│   + The .xls file was produced with help of OCR, but their   │~~~~│\n",
    "# │~~~~│  values were later tested against another version of these   │~~~~│\n",
    "# │~~~~│           tables and no discrepancies were found.            │~~~~│\n",
    "# │~~~~└──────────────────────────────────────────────────────────────┘~~~~│\n",
    "# │~~~~~~~~~~~~~~~~~~~~~~~~~~~~~~~~~~~~~~~~~~~~~~~~~~~~~~~~~~~~~~~~~~~~~~~~│\n",
    "# │~~~~~~~~~~~~~~~~~~~~~~~~~~~~~~~~~~~~~~~~~~~~~~~~~~~~~~~~~~~~~~~~~~~~~~~~│\n",
    "# └────────────────────────────────────────────────────────────────────────┘'''\n",
    "\n",
    "# tindices = [2,3,4,6,7,8,11,12,14,15,16,17,18,19]\n",
    "# tsymbols = ['t%d' % s for s in tindices]\n",
    "# workdir = os.getcwd()\n",
    "# export_fname = os.path.join(workdir, 'ti-hansen1996.xls')\n",
    "# raw_excel = os.path.join(workdir, 'hansen.xlsx')\n",
    "# make_plots = True\n",
    "\n",
    "\n",
    "# def num_cleaner(thing):\n",
    "#     thing = str(thing)\n",
    "#     thing = thing.replace(' ','')\n",
    "#     thing = thing.replace('이','01')\n",
    "#     return float(thing)\n",
    "\n",
    "# def term_cleaner(numE, thing):\n",
    "#     ambiguities = '51 5I-61 6I-20 2O-30 3O-IP 1P-IF 1F-IN 1N-IQ 1Q'\n",
    "#     ambiguities = [tuple(s.split(' ')) for s in ambiguities.split('-')]\n",
    "#     thing = str(thing)\n",
    "#     thing = thing.replace('工','I')\n",
    "#     if numE == 7:\n",
    "#         thing = thing.replace('2F0','2F10')\n",
    "#         thing = thing.replace('2G0','2G10')\n",
    "#     for k in (1,2,3,4):\n",
    "#         for i in range(k*100+10,k*100+20):\n",
    "#             thing = thing.replace(str(i),'%dI%s' % (k,str(i)[2]))\n",
    "#     for (l, r) in ambiguities:\n",
    "#         thing = thing.replace(l, r)\n",
    "#     return thing\n",
    "\n",
    "# def indices(lst, item):\n",
    "#     return [i for i, x in enumerate(lst) if x == item]\n",
    "\n",
    "# def parse_hansen(saving=True, verbose=False, make_plots=False):\n",
    "#     hansen = {}\n",
    "#     for numElectrons in range(3,8):\n",
    "#         # read the sheet in the excel spreadsheet\n",
    "#         hanFrame = pd.read_excel(raw_excel, sheet_name=numElectrons-3)\n",
    "#         # tidy up the term symbols\n",
    "#         hanFrame[\"bterm\"] = hanFrame[\"bterm\"].apply(lambda x: term_cleaner(7,x))\n",
    "#         hanFrame[\"kterm\"] = hanFrame[\"kterm\"].apply(lambda x: term_cleaner(7,x))\n",
    "#         # tidy up the numbers\n",
    "#         for tindex in tindices:\n",
    "#             hanFrame['t%d' % tindex] = hanFrame['t%d' % tindex].apply(num_cleaner)\n",
    "#         hansen[numElectrons] = hanFrame\n",
    "\n",
    "#     # There are some repeated rows in the tables by Hansen \n",
    "#     # this loop is related to that\n",
    "#     for numElectrons in range(3,8):\n",
    "#         hanFrame = hansen[numElectrons]\n",
    "#         termpairs = list(zip(hanFrame['bterm'], hanFrame['kterm']))\n",
    "#         if verbose:\n",
    "#             print(len(termpairs), len(set(termpairs)))\n",
    "#         counts = Counter(termpairs)\n",
    "#         for k,v in counts.items():\n",
    "#             if v == 1:\n",
    "#                 continue\n",
    "#             reps = indices(termpairs, k)\n",
    "#             reprows = []\n",
    "#             for rep in reps:\n",
    "#                 reprows.append(tuple(hanFrame.iloc[rep]))\n",
    "#             if verbose:\n",
    "#                 print(len(reprows),len(set(reprows)))\n",
    "\n",
    "#     # Remove those duplicate rows\n",
    "#     for numElectrons in range(3,8):\n",
    "#         hanFrame = hansen[numElectrons]\n",
    "#         newFrame = hanFrame.drop_duplicates()\n",
    "#         hansen[numElectrons] = newFrame\n",
    "\n",
    "#     # add the symmetric elements\n",
    "#     for numElectrons in range(3,8):\n",
    "#         hanFrame = hansen[numElectrons]\n",
    "#         termpairs = list(zip(hanFrame['bterm'], hanFrame['kterm']))\n",
    "#         nondiag = [tp[0] != tp[1] for tp in termpairs]\n",
    "#         diag = [tp[0] == tp[1] for tp in termpairs]\n",
    "#         nonDiagFrame = hanFrame[nondiag]\n",
    "#         diagFrame = hanFrame[diag]\n",
    "#         extraFrame = nonDiagFrame.rename(columns={'bterm':'kterm','kterm':'bterm'})\n",
    "#         hansen[numElectrons] = pd.concat([nonDiagFrame, diagFrame, extraFrame])\n",
    "#         hansen[numElectrons].sort_values('bterm', inplace=True)\n",
    "\n",
    "#     def save_xls(list_dfs, xls_path):\n",
    "#         with ExcelWriter(xls_path) as writer:\n",
    "#             for n, df in enumerate(list_dfs):\n",
    "#                 if n > 0:\n",
    "#                     df.to_excel(writer,'N = %s' % (n+2), index=False)\n",
    "#                 else:\n",
    "#                     df.to_excel(writer,'comments',  header=False, index=False)\n",
    "\n",
    "#     comment = 'This is a digital version of the tables from Hansen, JE, BR Judd, and Hannah Crosswhite. “Matrix Elements of Scalar Three-Electron Operators for the Atomic f-Shell.” Atomic Data and Nuclear Data Tables 62, no. 1 (1996): 1–49. The were digitized via OCR, take them with a grain of salt.'\n",
    "#     export = pd.DataFrame([[comment]])\n",
    "#     export = list(hansen.values())\n",
    "#     export = [pd.DataFrame([[comment]])] + export\n",
    "#     if saving:\n",
    "#         print(\"Saving to %s ...\" % export_fname)\n",
    "#         save_xls(export, export_fname)\n",
    "\n",
    "#     for numElectrons in range(3,8):\n",
    "#         hanFrame = hansen[numElectrons]\n",
    "#         hanFrame['f^N'] = [numElectrons]*len(hanFrame)\n",
    "#         hansen[numElectrons] = hanFrame\n",
    "\n",
    "#     bigHansenFrame = pd.concat(hansen)\n",
    "#     bigHansenFrame = bigHansenFrame[['f^N','bterm', 'kterm', 't2', 't3', 't4', 't6', 't7', 't8', 't11', 't12',\n",
    "#         't14', 't15', 't16', 't17', 't18', 't19']]\n",
    "#     csv_fname = os.path.join(workdir, 'ti-hansen1996.csv')\n",
    "#     if saving:\n",
    "#         print(\"Saving to %s ...\" % csv_fname)\n",
    "#         bigHansenFrame.to_csv(csv_fname, index=False)\n",
    "#     if make_plots:\n",
    "#         import cmasher as cmr\n",
    "#         from matplotlib import pyplot as plt\n",
    "#         from matplotlib.backends.backend_pdf import PdfPages\n",
    "#         tstrings = 't₂,t₃,t₄,t₆,t₇,t₈,t₁₁,t₁₂,t₁₄,t₁₅,t₁₆,t₁₇,t₁₈,t₁₉'.split(',')\n",
    "#         with PdfPages('ti-figs.pdf') as pdf:\n",
    "#             for numElectrons in [3,4,5,6,7]:\n",
    "#                 print(\"Writing plots for f^%d:\" % numElectrons)\n",
    "#                 for tsindex, ts in enumerate(tsymbols):\n",
    "#                     hanFrame = bigHansenFrame[bigHansenFrame['f^N']==numElectrons]\n",
    "#                     terms = list(hanFrame['bterm'].unique())\n",
    "#                     hanDict = hanFrame.set_index(['bterm', 'kterm']).to_dict()\n",
    "#                     figwidth = (25/4*(numElectrons-3) + 5)\n",
    "#                     x_labels = terms\n",
    "#                     y_labels = terms\n",
    "#                     fonsize = (60/4*(numElectrons-3) + 20)\n",
    "#                     tiMatrix = [[hanDict[ts].get((bterm, kterm),0.) for bterm in terms] for kterm in terms]\n",
    "#                     tiMatrix = np.array(tiMatrix)\n",
    "#                     plt.figure()\n",
    "#                     minv, maxv = np.max(tiMatrix), np.min(tiMatrix)\n",
    "#                     valuerange = max(abs(minv), abs(maxv))\n",
    "#                     fig, ax = plt.subplots(figsize=(figwidth, figwidth))\n",
    "#                     ax.imshow(tiMatrix, \n",
    "#                             vmin = -valuerange,\n",
    "#                             vmax = valuerange, \n",
    "#                             cmap = cmr.watermelon)\n",
    "#                     # Set the ticks - the positions where the labels should appear\n",
    "#                     ax.set_xticks(np.arange(len(x_labels)))\n",
    "#                     ax.set_yticks(np.arange(len(y_labels)))\n",
    "                    \n",
    "#                     # Set the labels and rotate x labels\n",
    "#                     ax.set_xticklabels(x_labels, rotation=90)\n",
    "#                     ax.set_yticklabels(y_labels)\n",
    "                    \n",
    "#                     # Add ticks to the bottom and left Axis as well\n",
    "#                     ax.tick_params(axis='x', which='both', bottom=True, top=True, labelbottom=True, labeltop=True)\n",
    "#                     ax.tick_params(axis='y', which='both', right=True, left=True, labelright=True, labelleft=True)\n",
    "#                     ax.set_title('~%s in f%s~' % (tstrings[tsindex], '³⁴⁵⁶⁷'[numElectrons-3]),fontsize=fonsize)\n",
    "#                     figname = 'f%d-t%d.pdf' % (numElectrons, tindices[tsindex])\n",
    "#                     plt.tight_layout()\n",
    "#                     pdf.savefig()\n",
    "#                     plt.close()\n",
    "#     return bigHansenFrame\n",
    "\n",
    "# if __name__ == '__main__':\n",
    "#     print(info)\n",
    "#     parse_hansen(saving=True, make_plots=make_plots)"
   ]
  },
  {
   "cell_type": "code",
   "execution_count": null,
   "metadata": {},
   "outputs": [],
   "source": []
  }
 ],
 "metadata": {
  "kernelspec": {
   "display_name": "qdef",
   "language": "python",
   "name": "python3"
  },
  "language_info": {
   "codemirror_mode": {
    "name": "ipython",
    "version": 3
   },
   "file_extension": ".py",
   "mimetype": "text/x-python",
   "name": "python",
   "nbconvert_exporter": "python",
   "pygments_lexer": "ipython3",
   "version": "3.7.10"
  },
  "orig_nbformat": 4
 },
 "nbformat": 4,
 "nbformat_minor": 2
}
