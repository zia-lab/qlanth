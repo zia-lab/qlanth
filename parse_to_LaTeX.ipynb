{
 "cells": [
  {
   "cell_type": "code",
   "execution_count": 121,
   "metadata": {},
   "outputs": [],
   "source": [
    "import re\n",
    "import os\n",
    "import textwrap"
   ]
  },
  {
   "cell_type": "code",
   "execution_count": 129,
   "metadata": {},
   "outputs": [],
   "source": [
    "data = open('qlanth.m','r').read()\n",
    "functions = {}\n",
    "lines = data.split('\\n')\n",
    "idx = 0\n",
    "while True:\n",
    "    line = lines[idx]\n",
    "    if '::usage'  in line and 'usageTemplate' not in line:\n",
    "        function = line.split('::usage')[0].strip().split(':')[0].strip()\n",
    "        usagelines = []\n",
    "        # parse the usage string\n",
    "        while True:\n",
    "            line = lines[idx].strip()\n",
    "            usagelines.append(lines[idx])\n",
    "            if lines[idx] == '' or '\";' in line:\n",
    "                break\n",
    "            idx += 1\n",
    "        usage_string = '\\n'.join(usagelines)\n",
    "        deflines = []\n",
    "        while True:\n",
    "            idx += 1\n",
    "            line = lines[idx].strip()\n",
    "            deflines.append(lines[idx])\n",
    "            if lines[idx] == '':\n",
    "                break\n",
    "        def_string = '\\n'.join(deflines)\n",
    "        functions[function] = (usage_string, def_string)\n",
    "    idx += 1\n",
    "    if idx == len(lines):\n",
    "        break\n",
    "\n",
    "line_template = '''\\\\begin{lstlisting}\n",
    "%s\n",
    "\\\\end{lstlisting}'''\n",
    "for key, (usage, defn) in functions.items():\n",
    "    fun_def = line_template % defn\n",
    "    fname = os.path.join('./doc','fundefs',key+'.tex')\n",
    "    with open(fname,'w') as f:\n",
    "        f.write(textwrap.dedent(defn))\n"
   ]
  },
  {
   "cell_type": "code",
   "execution_count": null,
   "metadata": {},
   "outputs": [],
   "source": []
  }
 ],
 "metadata": {
  "kernelspec": {
   "display_name": "qdef",
   "language": "python",
   "name": "python3"
  },
  "language_info": {
   "codemirror_mode": {
    "name": "ipython",
    "version": 3
   },
   "file_extension": ".py",
   "mimetype": "text/x-python",
   "name": "python",
   "nbconvert_exporter": "python",
   "pygments_lexer": "ipython3",
   "version": "3.7.10"
  }
 },
 "nbformat": 4,
 "nbformat_minor": 2
}
