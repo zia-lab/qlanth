{
 "cells": [
  {
   "cell_type": "markdown",
   "metadata": {},
   "source": [
    "# qlanth dressed in Python"
   ]
  },
  {
   "cell_type": "code",
   "execution_count": 1,
   "metadata": {},
   "outputs": [],
   "source": [
    "from sparsef1 import *\n",
    "from sparsef2 import *\n",
    "from sparsef3 import *\n",
    "from sparsef4 import *\n",
    "from sparsef5 import *\n",
    "from sparsef6 import *\n",
    "from sparsef7 import *\n",
    "import numpy as np\n",
    "from matplotlib import pyplot as plt\n",
    "import inspect\n",
    "import cmasher as cm\n",
    "import sympy as sp\n",
    "from LSJMJ_basis import LSJMJ_basis\n",
    "from time import time"
   ]
  },
  {
   "cell_type": "code",
   "execution_count": 4,
   "metadata": {},
   "outputs": [
    {
     "data": {
      "text/plain": [
       "dict_keys(['f1', 'f2', 'f3', 'f4', 'f5', 'f6', 'f7'])"
      ]
     },
     "execution_count": 4,
     "metadata": {},
     "output_type": "execute_result"
    }
   ],
   "source": [
    "LSJMJ_basis.keys()"
   ]
  },
  {
   "cell_type": "code",
   "execution_count": 2,
   "metadata": {},
   "outputs": [
    {
     "name": "stdout",
     "output_type": "stream",
     "text": [
      "f1 : (B02, B04, B06, B12, B14, B16, B22, B24, B26, B34, B36, B44, B46, B56, B66, S12, S14, S16, S22, S24, S26, S34, S36, S44, S46, S56, S66, α, β, γ, ζ)\n",
      "f2 : (B02, B04, B06, B12, B14, B16, B22, B24, B26, B34, B36, B44, B46, B56, B66, F0, F2, F4, F6, M0, M2, M4, P2, P4, P6, S12, S14, S16, S22, S24, S26, S34, S36, S44, S46, S56, S66, T2, t2Switch, α, β, γ, ζ, σSS)\n",
      "f3 : (B02, B04, B06, B12, B14, B16, B22, B24, B26, B34, B36, B44, B46, B56, B66, F0, F2, F4, F6, M0, M2, M4, P2, P4, P6, S12, S14, S16, S22, S24, S26, S34, S36, S44, S46, S56, S66, T2, T2p, t2Switch, T3, T4, T6, T7, T8, α, β, γ, ζ, σSS)\n",
      "f4 : (B02, B04, B06, B12, B14, B16, B22, B24, B26, B34, B36, B44, B46, B56, B66, F0, F2, F4, F6, M0, M2, M4, P2, P4, P6, S12, S14, S16, S22, S24, S26, S34, S36, S44, S46, S56, S66, T2, T2p, t2Switch, T3, T4, T6, T7, T8, α, β, γ, ζ, σSS)\n",
      "f5 : (B02, B04, B06, B12, B14, B16, B22, B24, B26, B34, B36, B44, B46, B56, B66, F0, F2, F4, F6, M0, M2, M4, P2, P4, P6, S12, S14, S16, S22, S24, S26, S34, S36, S44, S46, S56, S66, T2, T2p, t2Switch, T3, T4, T6, T7, T8, α, β, γ, ζ, σSS)\n",
      "f6 : (B02, B04, B06, B12, B14, B16, B22, B24, B26, B34, B36, B44, B46, B56, B66, F0, F2, F4, F6, M0, M2, M4, P2, P4, P6, S12, S14, S16, S22, S24, S26, S34, S36, S44, S46, S56, S66, T2, T2p, t2Switch, T3, T4, T6, T7, T8, α, β, γ, ζ, σSS)\n",
      "f7 : (B02, B04, B06, B12, B14, B16, B22, B24, B26, B34, B36, B44, B46, B56, B66, F0, F2, F4, F6, M0, M2, M4, P2, P4, P6, S12, S14, S16, S22, S24, S26, S34, S36, S44, S46, S56, S66, T2, T2p, t2Switch, T3, T4, T6, T7, T8, α, β, γ, ζ, σSS)\n"
     ]
    }
   ],
   "source": [
    "iterover = [effective_ham_f1, effective_ham_f2, effective_ham_f3, effective_ham_f4, effective_ham_f5, effective_ham_f6, effective_ham_f7]\n",
    "argspecs = {}\n",
    "for idx, fun in enumerate(iterover):\n",
    "    argspec = inspect.getfullargspec(fun)\n",
    "    argvars = ', '.join(argspec.args)\n",
    "    argvars = 'f%d : ' % (idx+1) + '(' + argvars + ')'\n",
    "    argspecs[idx+1] = (argvars)\n",
    "print('\\n'.join(list(argspecs.values())))"
   ]
  },
  {
   "cell_type": "code",
   "execution_count": 3,
   "metadata": {},
   "outputs": [
    {
     "name": "stdout",
     "output_type": "stream",
     "text": [
      "f1 num parameters =  31\n",
      "time to compute python matrix = 0.00 min\n",
      "f2 num parameters =  44\n",
      "time to compute python matrix = 0.00 min\n",
      "f3 num parameters =  50\n",
      "time to compute python matrix = 0.00 min\n",
      "f4 num parameters =  50\n",
      "time to compute python matrix = 0.03 min\n",
      "f5 num parameters =  50\n",
      "time to compute python matrix = 0.10 min\n",
      "f6 num parameters =  50\n",
      "time to compute python matrix = 0.21 min\n",
      "f7 num parameters =  50\n",
      "time to compute python matrix = 0.13 min\n"
     ]
    }
   ],
   "source": [
    "# this loop is simply to evaluate how\n",
    "# quicly the sparse matrices can be computed\n",
    "iterover = [effective_ham_f1, effective_ham_f2, effective_ham_f3, effective_ham_f4, effective_ham_f5, effective_ham_f6, effective_ham_f7]\n",
    "for idx, fun in enumerate(iterover):\n",
    "    argspec = inspect.getfullargspec(fun)\n",
    "    num_parameters = len(argspec.args)\n",
    "    print(\"f%d\" %(idx+1), \"num parameters = \", num_parameters)\n",
    "    params = [np.random.random() for i in range(num_parameters)]\n",
    "    start_time = time()\n",
    "    pymat  = fun(*params)\n",
    "    pyarray = pymat.toarray()\n",
    "    end_time = time()\n",
    "    print(\"time to compute python matrix = %.2f min\" % ((end_time - start_time)/60.))"
   ]
  },
  {
   "cell_type": "markdown",
   "metadata": {},
   "source": [
    "## Example : Pr in LaF3"
   ]
  },
  {
   "cell_type": "code",
   "execution_count": 3,
   "metadata": {},
   "outputs": [],
   "source": [
    "fHam = effective_ham_f2(\n",
    "    F0=0,    \n",
    "    F2=68878,\n",
    "    F4=50347,\n",
    "    F6=32901,\n",
    "    t2Switch=0,\n",
    "    ζ=751.7,\n",
    "    α=16.23,\n",
    "    β=-566.6,\n",
    "    γ=1371,\n",
    "    M0=2.08,\n",
    "    M2=0.56*2.08,\n",
    "    M4=0.31*2.08,\n",
    "    P2=-88.6,\n",
    "    P4=-0.5*88.6,\n",
    "    P6=-0.1*88.6,\n",
    "    T2=0.,\n",
    "    σSS=1,\n",
    "    B02=-218,\n",
    "    B04=738.,\n",
    "    B06=679,\n",
    "    B22=-120.,\n",
    "    B24=431,\n",
    "    B44=616,\n",
    "    B26=-921,\n",
    "    B46=-348,\n",
    "    B66=-788\n",
    "    )"
   ]
  },
  {
   "cell_type": "code",
   "execution_count": 4,
   "metadata": {},
   "outputs": [],
   "source": [
    "energies = np.sort(np.linalg.eigvals(fHam.toarray()))\n",
    "energies = energies - energies[0]\n",
    "eigenvectors = np.linalg.eig(fHam.toarray())[1]"
   ]
  },
  {
   "cell_type": "code",
   "execution_count": 5,
   "metadata": {},
   "outputs": [
    {
     "data": {
      "text/plain": [
       "array([    0.        ,    71.53017127,    94.93432674,   137.83649535,\n",
       "         182.54983013,   220.98425571,   333.45927379,   444.10937084,\n",
       "         462.75293024,  2132.01855019,  2163.28726492,  2196.03435496,\n",
       "        2289.62760543,  2294.99111667,  2300.62904837,  2323.05003215,\n",
       "        2404.2515616 ,  2417.51411698,  2442.82006161,  2545.51120848,\n",
       "        4179.09718418,  4199.79750002,  4282.85561178,  4321.4547533 ,\n",
       "        4384.10297602,  4467.03412033,  4478.41875303,  4496.18402198,\n",
       "        4507.41039512,  4590.19909272,  4692.81913123,  4711.66894367,\n",
       "        4813.7096838 ,  5144.66943793,  5182.31656837,  5184.58498389,\n",
       "        5269.49141845,  5275.39111783,  6461.28648764,  6494.86675247,\n",
       "        6512.32422146,  6583.92636117,  6605.34261406,  6633.20865695,\n",
       "        6745.12869837,  6919.13188678,  6937.44973571,  6951.48773672,\n",
       "        6953.42853137,  6955.17331907,  6984.77338034,  7035.60174026,\n",
       "        7097.73404136,  7153.43581376,  9722.59767244,  9763.54001573,\n",
       "        9860.97212274,  9928.45062192,  9958.664584  ,  9997.46685125,\n",
       "       10031.39705038, 10151.70428754, 10517.70653314, 16889.10222065,\n",
       "       16896.78692536, 17084.38302101, 17118.89351778, 17171.66149841,\n",
       "       20885.835701  , 21285.95967474, 21306.0212575 , 21342.06461827,\n",
       "       21392.38666682, 21408.23631976, 21483.29372039, 21499.09848565,\n",
       "       21531.15757645, 21573.99119961, 21590.2972111 , 21601.9260724 ,\n",
       "       21639.48973158, 21668.38168554, 21805.94868225, 21890.92559208,\n",
       "       21959.41157313, 22669.98032231, 22705.98321488, 22739.08240434,\n",
       "       22787.8948825 , 22818.4351533 , 46966.61526096])"
      ]
     },
     "execution_count": 5,
     "metadata": {},
     "output_type": "execute_result"
    }
   ],
   "source": [
    "energies"
   ]
  },
  {
   "cell_type": "code",
   "execution_count": 87,
   "metadata": {},
   "outputs": [
    {
     "data": {
      "text/latex": [
       "$\\displaystyle 0.103 *|3P,J=0,MJ=0> - 0.992 *|3P,J=1,MJ=0>$"
      ],
      "text/plain": [
       "0.103**|3P,J=0,MJ=0> - 0.992**|3P,J=1,MJ=0>"
      ]
     },
     "execution_count": 87,
     "metadata": {},
     "output_type": "execute_result"
    }
   ],
   "source": [
    "# The eigenvectors are to be interpreted in the ordered\n",
    "# basis provided by LSJMJ_basis\n",
    "# for example the two largerst contribution to the first eigenvector is\n",
    "ground_state = eigenvectors[0]\n",
    "argsorter = np.argsort(np.abs(ground_state))\n",
    "basis = LSJMJ_basis[\"f2\"]\n",
    "major_basis_components = [\n",
    "    (np.round(ground_state[idx],3)* \n",
    "    sp.Symbol('*|%s,J=%d,MJ=%d>' % tuple(basis[idx]))) for idx in argsorter[-2:]]\n",
    "sum(major_basis_components)\n"
   ]
  },
  {
   "cell_type": "code",
   "execution_count": null,
   "metadata": {},
   "outputs": [],
   "source": []
  }
 ],
 "metadata": {
  "kernelspec": {
   "display_name": "qdef",
   "language": "python",
   "name": "python3"
  },
  "language_info": {
   "codemirror_mode": {
    "name": "ipython",
    "version": 3
   },
   "file_extension": ".py",
   "mimetype": "text/x-python",
   "name": "python",
   "nbconvert_exporter": "python",
   "pygments_lexer": "ipython3",
   "version": "3.7.10"
  }
 },
 "nbformat": 4,
 "nbformat_minor": 2
}
