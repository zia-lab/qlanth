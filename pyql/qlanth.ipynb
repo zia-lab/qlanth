{
 "cells": [
  {
   "cell_type": "markdown",
   "metadata": {},
   "source": [
    "# qlanth dressed in Python"
   ]
  },
  {
   "cell_type": "code",
   "execution_count": 1,
   "metadata": {},
   "outputs": [],
   "source": [
    "# when first run this, it takes a while (maybe 10 minutes) to compile the cython code, after that, it should be much faster to import again\n",
    "from sparsef1 import *\n",
    "from sparsef2 import *\n",
    "from sparsef3 import *\n",
    "from sparsef4 import *\n",
    "from sparsef5 import *\n",
    "from sparsef6 import *\n",
    "from sparsef7 import *\n",
    "import numpy as np\n",
    "from matplotlib import pyplot as plt\n",
    "import inspect\n",
    "import cmasher as cm\n",
    "import sympy as sp\n",
    "from LSJMJ_basis import LSJMJ_basis\n",
    "from time import time\n",
    "from fractions import Fraction"
   ]
  },
  {
   "cell_type": "code",
   "execution_count": 2,
   "metadata": {},
   "outputs": [
    {
     "data": {
      "text/plain": [
       "dict_keys(['f1', 'f2', 'f3', 'f4', 'f5', 'f6', 'f7'])"
      ]
     },
     "execution_count": 2,
     "metadata": {},
     "output_type": "execute_result"
    }
   ],
   "source": [
    "LSJMJ_basis.keys()"
   ]
  },
  {
   "cell_type": "code",
   "execution_count": 3,
   "metadata": {},
   "outputs": [
    {
     "name": "stdout",
     "output_type": "stream",
     "text": [
      "f1 : (B02, B04, B06, B12, B14, B16, B22, B24, B26, B34, B36, B44, B46, B56, B66, S12, S14, S16, S22, S24, S26, S34, S36, S44, S46, S56, S66, α, β, γ, ζ)\n",
      "f2 : (B02, B04, B06, B12, B14, B16, B22, B24, B26, B34, B36, B44, B46, B56, B66, F0, F2, F4, F6, M0, M2, M4, P2, P4, P6, S12, S14, S16, S22, S24, S26, S34, S36, S44, S46, S56, S66, T2, t2Switch, α, β, γ, ζ, σSS)\n",
      "f3 : (B02, B04, B06, B12, B14, B16, B22, B24, B26, B34, B36, B44, B46, B56, B66, F0, F2, F4, F6, M0, M2, M4, P2, P4, P6, S12, S14, S16, S22, S24, S26, S34, S36, S44, S46, S56, S66, T11, T2, T2p, t2Switch, T3, T4, T6, T7, T8, α, β, γ, ζ, σSS)\n",
      "f4 : (B02, B04, B06, B12, B14, B16, B22, B24, B26, B34, B36, B44, B46, B56, B66, F0, F2, F4, F6, M0, M2, M4, P2, P4, P6, S12, S14, S16, S22, S24, S26, S34, S36, S44, S46, S56, S66, T2, T2p, T3, T4, T6, T7, T8, α, β, γ, ζ, σSS)\n",
      "f5 : (B02, B04, B06, B12, B14, B16, B22, B24, B26, B34, B36, B44, B46, B56, B66, F0, F2, F4, F6, M0, M2, M4, P2, P4, P6, S12, S14, S16, S22, S24, S26, S34, S36, S44, S46, S56, S66, T11, T2, T2p, t2Switch, T3, T4, T6, T7, T8, α, β, γ, ζ, σSS)\n",
      "f6 : (B02, B04, B06, B12, B14, B16, B22, B24, B26, B34, B36, B44, B46, B56, B66, F0, F2, F4, F6, M0, M2, M4, P2, P4, P6, S12, S14, S16, S22, S24, S26, S34, S36, S44, S46, S56, S66, T11, T2, T2p, t2Switch, T3, T4, T6, T7, T8, α, β, γ, ζ, σSS)\n",
      "f7 : (B02, B04, B06, B12, B14, B16, B22, B24, B26, B34, B36, B44, B46, B56, B66, F0, F2, F4, F6, M0, M2, M4, P2, P4, P6, S12, S14, S16, S22, S24, S26, S34, S36, S44, S46, S56, S66, T11, T2, T2p, t2Switch, T3, T4, T6, T7, T8, α, β, γ, ζ, σSS)\n"
     ]
    }
   ],
   "source": [
    "iterover = [effective_ham_f1, effective_ham_f2, effective_ham_f3, effective_ham_f4, effective_ham_f5, effective_ham_f6, effective_ham_f7]\n",
    "argspecs = {}\n",
    "for idx, fun in enumerate(iterover):\n",
    "    argspec = inspect.getfullargspec(fun)\n",
    "    argvars = ', '.join(argspec.args)\n",
    "    argvars = 'f%d : ' % (idx+1) + '(' + argvars + ')'\n",
    "    argspecs[idx+1] = (argvars)\n",
    "print('\\n'.join(list(argspecs.values())))"
   ]
  },
  {
   "cell_type": "code",
   "execution_count": 4,
   "metadata": {},
   "outputs": [
    {
     "name": "stdout",
     "output_type": "stream",
     "text": [
      "f1 num parameters =  31\n",
      "time to compute python matrix = 0.00 min\n",
      "f2 num parameters =  44\n",
      "time to compute python matrix = 0.00 min\n",
      "f3 num parameters =  51\n",
      "time to compute python matrix = 0.01 min\n",
      "f4 num parameters =  49\n",
      "time to compute python matrix = 0.04 min\n",
      "f5 num parameters =  51\n",
      "time to compute python matrix = 0.13 min\n",
      "f6 num parameters =  51\n",
      "time to compute python matrix = 0.27 min\n",
      "f7 num parameters =  51\n",
      "time to compute python matrix = 0.16 min\n"
     ]
    }
   ],
   "source": [
    "# this loop is simply to evaluate how\n",
    "# quicly the sparse matrices can be computed\n",
    "iterover = [effective_ham_f1, effective_ham_f2, effective_ham_f3, effective_ham_f4, effective_ham_f5, effective_ham_f6, effective_ham_f7]\n",
    "for idx, fun in enumerate(iterover):\n",
    "    argspec = inspect.getfullargspec(fun)\n",
    "    num_parameters = len(argspec.args)\n",
    "    print(\"f%d\" %(idx+1), \"num parameters = \", num_parameters)\n",
    "    params = [np.random.random() for i in range(num_parameters)]\n",
    "    start_time = time()\n",
    "    pymat  = fun(*params)\n",
    "    pyarray = pymat.toarray()\n",
    "    end_time = time()\n",
    "    print(\"time to compute python matrix = %.2f min\" % ((end_time - start_time)/60.))"
   ]
  },
  {
   "cell_type": "markdown",
   "metadata": {},
   "source": [
    "## Example : Pr in LaF3"
   ]
  },
  {
   "cell_type": "code",
   "execution_count": 64,
   "metadata": {},
   "outputs": [],
   "source": [
    "fHam = effective_ham_f2(\n",
    "    F0=0.,    \n",
    "    F2=68868.2,\n",
    "    F4=50405.4,\n",
    "    F6=32887.2,\n",
    "    t2Switch=1,\n",
    "    ζ=749.808,\n",
    "    α=16.1474,\n",
    "    β=-557.703,\n",
    "    γ=1364.08,\n",
    "    M0=1.86785,\n",
    "    M2=0.56*1.86785,\n",
    "    M4=0.31*1.86785,\n",
    "    P2=-38.812,\n",
    "    P4=0.5*38.812,\n",
    "    P6=0.1*38.812,\n",
    "    T2=0.,\n",
    "    σSS=1,\n",
    "    B02=-221.216,\n",
    "    B04=737.939,\n",
    "    B06=672.995,\n",
    "    B22=-126.739,\n",
    "    B24=420.805,\n",
    "    B44=608.423,\n",
    "    B26=-918.663,\n",
    "    B46=-355.426,\n",
    "    B66=-788.801,\n",
    "    B12=0.,\n",
    "    B14=0.,\n",
    "    B16=0.,\n",
    "    B34=0.,\n",
    "    B36=0.,\n",
    "    B56=0.,\n",
    "    S12=0.,\n",
    "    S14=0.,\n",
    "    S16=0.,\n",
    "    S22=0.,\n",
    "    S24=0.,\n",
    "    S26=0.,\n",
    "    S34=0.,\n",
    "    S36=0.,\n",
    "    S44=0.,\n",
    "    S46=0.,\n",
    "    S56=0.,\n",
    "    S66=0.\n",
    "    )"
   ]
  },
  {
   "cell_type": "code",
   "execution_count": 65,
   "metadata": {},
   "outputs": [],
   "source": [
    "energies, eigenvectors = np.linalg.eig(fHam.toarray())\n",
    "energies = energies.real\n",
    "the_ordering = np.argsort(energies)\n",
    "energies = energies[the_ordering]\n",
    "eigenvectors = eigenvectors.T[the_ordering]\n",
    "energies = energies - energies[0]"
   ]
  },
  {
   "cell_type": "code",
   "execution_count": 66,
   "metadata": {},
   "outputs": [
    {
     "data": {
      "text/latex": [
       "$\\displaystyle 0.304 *|3H,J=4,MJ=-4> + 0.886 *|3H,J=4,MJ=0> + 0.304 *|3H,J=4,MJ=4>$"
      ],
      "text/plain": [
       "0.304**|3H,J=4,MJ=-4> + 0.886**|3H,J=4,MJ=0> + 0.304**|3H,J=4,MJ=4>"
      ]
     },
     "execution_count": 66,
     "metadata": {},
     "output_type": "execute_result"
    }
   ],
   "source": [
    "# The eigenvectors are to be interpreted in the ordered\n",
    "# basis provided by LSJMJ_basis\n",
    "# for example the two largest contributions to the first eigenvector are\n",
    "ground_state = eigenvectors[0]\n",
    "argsorter = np.argsort(np.abs(ground_state))\n",
    "basis = LSJMJ_basis[\"f2\"]\n",
    "largest_indices = argsorter[-3:]\n",
    "major_basis_components = [\n",
    "    (np.round(ground_state[idx],3)* \n",
    "    sp.Symbol('*|%s,J=%s,MJ=%s>' % tuple(basis[idx]))) for idx in largest_indices]\n",
    "sum(major_basis_components)\n"
   ]
  },
  {
   "cell_type": "markdown",
   "metadata": {},
   "source": [
    "## Example : Nd in LaF3"
   ]
  },
  {
   "cell_type": "code",
   "execution_count": 75,
   "metadata": {},
   "outputs": [],
   "source": [
    "assoc = '''<|\\[Zeta] -> 885.162, F2 -> 73037.4, F4 -> 52792.8, F6 -> 35766.8, \n",
    " M0 -> 2.15819, M2 -> 1.20858, M4 -> 0.669038, T2 -> 291.772, \n",
    " T3 -> 35.6931, T4 -> 59.7676, T6 -> -287.891, T7 -> 338.545, \n",
    " T8 -> 305.252, P2 -> 210.378, P4 -> 105.189, \n",
    " P6 -> 21.0378, \\[Alpha] -> 21.3777, \\[Beta] -> -589.544, \\[Gamma] -> \n",
    "  1427.74, B02 -> -257.064, B04 -> 500.501, B06 -> 646.255, \n",
    " B22 -> -50.1685, B24 -> 507.521, B26 -> -830.79, B44 -> 568.972, \n",
    " B46 -> -408.967, B66 -> -833.618, \\[Epsilon] -> -4.45374, nE -> 3|>'''\n",
    "# assoc = assoc.replace('\\\\[Zeta]', 'ζ')\n",
    "# assoc = assoc.replace('\\\\[Alpha]', 'α')\n",
    "# assoc = assoc.replace('\\\\[Beta]', 'β')\n",
    "# assoc = assoc.replace('\\\\[Gamma]', 'γ')\n",
    "# assoc = assoc.replace('\\\\[Epsilon]', 'ε')\n",
    "# assoc = assoc.replace('\\n', ' ')\n",
    "# assoc = assoc.replace('->', '\":')\n",
    "# assoc = assoc.replace('<|', '{\"')\n",
    "# assoc = assoc.replace('|>', '}')\n",
    "# assoc = assoc.replace(' ', '')\n",
    "# assoc = assoc.replace(',', ', \"') \n",
    "# params = eval(assoc)\n",
    "# params['σSS'] = 1\n",
    "# params['F0']  = 0\n",
    "# params['T11'] = 0\n",
    "# params['T2p'] = 0\n",
    "# params['B12'] = 0\n",
    "# params['B14'] = 0\n",
    "# params['B16'] = 0\n",
    "# params['B34'] = 0\n",
    "# params['B36'] = 0\n",
    "# params['B56'] = 0\n",
    "# params['S12'] = 0\n",
    "# params['S14'] = 0\n",
    "# params['S16'] = 0\n",
    "# params['S22'] = 0\n",
    "# params['S24'] = 0\n",
    "# params['S26'] = 0\n",
    "# params['S34'] = 0\n",
    "# params['S36'] = 0\n",
    "# params['S44'] = 0\n",
    "# params['S46'] = 0\n",
    "# params['S56'] = 0\n",
    "# params['S66'] = 0\n",
    "# params['t2Switch'] = 1\n",
    "# del params['ε']\n",
    "# del params['nE']\n",
    "# turn this into a function that can be used\n",
    "def from_assoc_to_dict(assoc):\n",
    "    assoc = assoc.replace('\\\\[Zeta]', 'ζ')\n",
    "    assoc = assoc.replace('\\\\[Alpha]', 'α')\n",
    "    assoc = assoc.replace('\\\\[Beta]', 'β')\n",
    "    assoc = assoc.replace('\\\\[Gamma]', 'γ')\n",
    "    assoc = assoc.replace('\\\\[Epsilon]', 'ε')\n",
    "    assoc = assoc.replace('\\n', ' ')\n",
    "    assoc = assoc.replace('->', '\":')\n",
    "    assoc = assoc.replace('<|', '{\"')\n",
    "    assoc = assoc.replace('|>', '}')\n",
    "    assoc = assoc.replace(' ', '')\n",
    "    assoc = assoc.replace(',', ', \"')\n",
    "    params = eval(assoc)\n",
    "    params['σSS'] = 1\n",
    "    params['F0']  = 0\n",
    "    params['T11'] = 0\n",
    "    params['T2p'] = 0\n",
    "    params['B12'] = 0\n",
    "    params['B14'] = 0\n",
    "    params['B16'] = 0\n",
    "    params['B34'] = 0\n",
    "    params['B36'] = 0\n",
    "    params['B56'] = 0\n",
    "    params['S12'] = 0\n",
    "    params['S14'] = 0\n",
    "    params['S16'] = 0\n",
    "    params['S22'] = 0\n",
    "    params['S24'] = 0\n",
    "    params['S26'] = 0\n",
    "    params['S34'] = 0\n",
    "    params['S36'] = 0\n",
    "    params['S44'] = 0\n",
    "    params['S46'] = 0\n",
    "    params['S56'] = 0\n",
    "    params['S66'] = 0\n",
    "    params['t2Switch'] = 1\n",
    "    del params['ε']\n",
    "    del params['nE']  \n",
    "    return params\n",
    "params = from_assoc_to_dict(assoc)  "
   ]
  },
  {
   "cell_type": "code",
   "execution_count": 76,
   "metadata": {},
   "outputs": [],
   "source": [
    "fHam = effective_ham_f3(**params) "
   ]
  },
  {
   "cell_type": "code",
   "execution_count": 77,
   "metadata": {},
   "outputs": [],
   "source": [
    "energies, eigenvectors = np.linalg.eig(fHam.toarray())\n",
    "energies = energies.real\n",
    "the_ordering = np.argsort(energies)\n",
    "energies = energies[the_ordering]\n",
    "eigenvectors = eigenvectors.T[the_ordering]\n",
    "energies = energies - energies[0]"
   ]
  },
  {
   "cell_type": "code",
   "execution_count": null,
   "metadata": {},
   "outputs": [],
   "source": [
    " "
   ]
  },
  {
   "cell_type": "code",
   "execution_count": 78,
   "metadata": {},
   "outputs": [
    {
     "data": {
      "text/latex": [
       "$\\displaystyle 0.563 *|4I,J=9/2,MJ=-5/2> - 0.428 *|4I,J=9/2,MJ=-9/2> + 0.66 *|4I,J=9/2,MJ=3/2>$"
      ],
      "text/plain": [
       "0.563**|4I,J=9/2,MJ=-5/2> - 0.428**|4I,J=9/2,MJ=-9/2> + 0.66**|4I,J=9/2,MJ=3/2>"
      ]
     },
     "execution_count": 78,
     "metadata": {},
     "output_type": "execute_result"
    }
   ],
   "source": [
    "# The eigenvectors are to be interpreted in the ordered\n",
    "# basis provided by LSJMJ_basis\n",
    "# for example the two largest contributions to the first eigenvector are\n",
    "ground_state = eigenvectors[0]\n",
    "argsorter = np.argsort(np.abs(ground_state))\n",
    "basis = LSJMJ_basis[\"f3\"]\n",
    "largest_indices = argsorter[-3:]\n",
    "major_basis_components = [\n",
    "    (np.round(ground_state[idx],3)* \n",
    "    sp.Symbol('*|%s,J=%s,MJ=%s>' % tuple(basis[idx]))) for idx in largest_indices]\n",
    "sum(major_basis_components)\n"
   ]
  }
 ],
 "metadata": {
  "kernelspec": {
   "display_name": "qdef",
   "language": "python",
   "name": "python3"
  },
  "language_info": {
   "codemirror_mode": {
    "name": "ipython",
    "version": 3
   },
   "file_extension": ".py",
   "mimetype": "text/x-python",
   "name": "python",
   "nbconvert_exporter": "python",
   "pygments_lexer": "ipython3",
   "version": "3.8.8"
  }
 },
 "nbformat": 4,
 "nbformat_minor": 2
}
